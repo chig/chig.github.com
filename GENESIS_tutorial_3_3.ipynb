{
  "nbformat": 4,
  "nbformat_minor": 0,
  "metadata": {
    "colab": {
      "name": "GENESIS_tutorial_3.3.ipynb",
      "provenance": [],
      "collapsed_sections": [],
      "authorship_tag": "ABX9TyMF6EiD+yWOVBaQUbsKrNcY",
      "include_colab_link": true
    },
    "kernelspec": {
      "name": "python3",
      "display_name": "Python 3"
    },
    "language_info": {
      "name": "python"
    }
  },
  "cells": [
    {
      "cell_type": "markdown",
      "metadata": {
        "id": "view-in-github",
        "colab_type": "text"
      },
      "source": [
        "<a href=\"https://colab.research.google.com/github/chig/chig.github.com/blob/master/GENESIS_tutorial_3_3.ipynb\" target=\"_parent\"><img src=\"https://colab.research.google.com/assets/colab-badge.svg\" alt=\"Open In Colab\"/></a>"
      ]
    },
    {
      "cell_type": "markdown",
      "metadata": {
        "id": "tiNMEMu7uFrK"
      },
      "source": [
        "**GENESIS Tutorial in Google Colab.**\n",
        "\n",
        "From \"*3.3 MD simulation of Protein G in NaCl solution with the CHARMM force field*\":  https://www.r-ccs.riken.jp/labs/cbrt/tutorials2019/tutorial-3-3/\n",
        "\n",
        "and \"*3.2 MD simulation of alanine-tripeptide in water with the CHARMM force field*\" : https://www.r-ccs.riken.jp/labs/cbrt/tutorials2019/tutorial-3-2/\n",
        "\n",
        "\n",
        "These sites are designed to be downloaded as linked tar balls and executed in your environment.\n",
        "\n",
        "However, in this tutorial, it will be reading and analyzing output files of MD simulations that have been calculated on Fugaku beforehand.\n",
        "\n",
        "**Preparation**\n",
        "\n",
        "Please download data from github"
      ]
    },
    {
      "cell_type": "code",
      "metadata": {
        "colab": {
          "base_uri": "https://localhost:8080/"
        },
        "id": "qFLjIUBMM4JM",
        "outputId": "ff31a591-6f15-408c-afb5-75c627f9dbbf"
      },
      "source": [
        "!git clone https://github.com/chig/genesis_tutorial_with_python.git"
      ],
      "execution_count": 2,
      "outputs": [
        {
          "output_type": "stream",
          "text": [
            "fatal: destination path 'genesis_tutorial_with_python' already exists and is not an empty directory.\n"
          ],
          "name": "stdout"
        }
      ]
    },
    {
      "cell_type": "code",
      "metadata": {
        "id": "yPbQG7olyVxp",
        "colab": {
          "base_uri": "https://localhost:8080/"
        },
        "outputId": "6cf340a4-eae1-4268-9881-23583207dfa8"
      },
      "source": [
        "!ls"
      ],
      "execution_count": 3,
      "outputs": [
        {
          "output_type": "stream",
          "text": [
            "genesis_tutorial_with_python  sample_data\n"
          ],
          "name": "stdout"
        }
      ]
    },
    {
      "cell_type": "code",
      "metadata": {
        "colab": {
          "base_uri": "https://localhost:8080/"
        },
        "id": "w9QJyIzqQNho",
        "outputId": "bf0e7cd8-fc17-433c-d5f8-358f748bbdd3"
      },
      "source": [
        "%cd genesis_tutorial_with_python/tutorial-3.3"
      ],
      "execution_count": 4,
      "outputs": [
        {
          "output_type": "stream",
          "text": [
            "/content/genesis_tutorial_with_python/tutorial-3.3\n"
          ],
          "name": "stdout"
        }
      ]
    },
    {
      "cell_type": "code",
      "metadata": {
        "colab": {
          "base_uri": "https://localhost:8080/"
        },
        "id": "VHaBDJoiQXD6",
        "outputId": "3b77bf6b-8cbe-4085-d6d6-cceb9f229367"
      },
      "source": [
        "!ls"
      ],
      "execution_count": 5,
      "outputs": [
        {
          "output_type": "stream",
          "text": [
            "1_setup     3_equilibrate  5_analysis\n",
            "2_minimize  4_production   GENESIS_tutorial_3_3.ipynb\n"
          ],
          "name": "stdout"
        }
      ]
    },
    {
      "cell_type": "code",
      "metadata": {
        "colab": {
          "base_uri": "https://localhost:8080/"
        },
        "id": "-ygb8VuvQYfX",
        "outputId": "e5adaba2-d2d8-448e-d8a8-8a7539d84874"
      },
      "source": [
        "%cd 1_setup"
      ],
      "execution_count": 6,
      "outputs": [
        {
          "output_type": "stream",
          "text": [
            "/content/genesis_tutorial_with_python/tutorial-3.3/1_setup\n"
          ],
          "name": "stdout"
        }
      ]
    },
    {
      "cell_type": "code",
      "metadata": {
        "colab": {
          "base_uri": "https://localhost:8080/"
        },
        "id": "YQKZKYZ1VJip",
        "outputId": "74f172dc-ce7c-4e90-8858-fc6525cb7d77"
      },
      "source": [
        "!ls"
      ],
      "execution_count": 7,
      "outputs": [
        {
          "output_type": "stream",
          "text": [
            "2_modpdb  3_psfgen  4_solvate  5_ionize\n"
          ],
          "name": "stdout"
        }
      ]
    },
    {
      "cell_type": "code",
      "metadata": {
        "colab": {
          "base_uri": "https://localhost:8080/"
        },
        "id": "heSI6frpVLj3",
        "outputId": "40286ae9-a62a-4f4e-fb87-b21c26ae4637"
      },
      "source": [
        "%cd ../2_minimize/"
      ],
      "execution_count": 8,
      "outputs": [
        {
          "output_type": "stream",
          "text": [
            "/content/genesis_tutorial_with_python/tutorial-3.3/2_minimize\n"
          ],
          "name": "stdout"
        }
      ]
    },
    {
      "cell_type": "code",
      "metadata": {
        "colab": {
          "base_uri": "https://localhost:8080/"
        },
        "id": "VKfZ-D0rVPtH",
        "outputId": "e507d9d4-d051-424d-ed79-ad3145721d3a"
      },
      "source": [
        "!ls"
      ],
      "execution_count": 9,
      "outputs": [
        {
          "output_type": "stream",
          "text": [
            "INP  log\n"
          ],
          "name": "stdout"
        }
      ]
    },
    {
      "cell_type": "code",
      "metadata": {
        "id": "mgwuxV8uVSGD"
      },
      "source": [
        "%cat INP"
      ],
      "execution_count": null,
      "outputs": []
    },
    {
      "cell_type": "code",
      "metadata": {
        "id": "XllZdJjJVyri"
      },
      "source": [
        "%cat log"
      ],
      "execution_count": null,
      "outputs": []
    },
    {
      "cell_type": "code",
      "metadata": {
        "id": "YrX2r_cHWA0W"
      },
      "source": [
        ""
      ],
      "execution_count": null,
      "outputs": []
    }
  ]
}